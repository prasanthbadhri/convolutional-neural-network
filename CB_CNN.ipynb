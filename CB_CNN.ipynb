{
 "cells": [
  {
   "cell_type": "markdown",
   "id": "12b94bfa",
   "metadata": {},
   "source": [
    "# Image classification using CNN:"
   ]
  },
  {
   "cell_type": "code",
   "execution_count": 1,
   "id": "12e0d263",
   "metadata": {},
   "outputs": [],
   "source": [
    "import tensorflow as tf\n",
    "from tensorflow.keras import datasets, layers, models\n",
    "import matplotlib.pyplot as plt\n",
    "import numpy as np"
   ]
  },
  {
   "cell_type": "markdown",
   "id": "36b73f98",
   "metadata": {},
   "source": [
    "## Let us consider a keras images dataset..."
   ]
  },
  {
   "cell_type": "code",
   "execution_count": 2,
   "id": "8c907008",
   "metadata": {},
   "outputs": [],
   "source": [
    "(x_train, y_train), (x_test, y_test) = datasets.cifar10.load_data()"
   ]
  },
  {
   "cell_type": "code",
   "execution_count": 3,
   "id": "8ae8cf74",
   "metadata": {},
   "outputs": [
    {
     "data": {
      "text/plain": [
       "(50000, 32, 32, 3)"
      ]
     },
     "execution_count": 3,
     "metadata": {},
     "output_type": "execute_result"
    }
   ],
   "source": [
    "x_train.shape"
   ]
  },
  {
   "cell_type": "code",
   "execution_count": 4,
   "id": "61374ceb",
   "metadata": {},
   "outputs": [
    {
     "data": {
      "text/plain": [
       "(10000, 32, 32, 3)"
      ]
     },
     "execution_count": 4,
     "metadata": {},
     "output_type": "execute_result"
    }
   ],
   "source": [
    "x_test.shape"
   ]
  },
  {
   "cell_type": "code",
   "execution_count": 5,
   "id": "c12e5738",
   "metadata": {},
   "outputs": [
    {
     "data": {
      "text/plain": [
       "array([[[ 59,  62,  63],\n",
       "        [ 43,  46,  45],\n",
       "        [ 50,  48,  43],\n",
       "        ...,\n",
       "        [158, 132, 108],\n",
       "        [152, 125, 102],\n",
       "        [148, 124, 103]],\n",
       "\n",
       "       [[ 16,  20,  20],\n",
       "        [  0,   0,   0],\n",
       "        [ 18,   8,   0],\n",
       "        ...,\n",
       "        [123,  88,  55],\n",
       "        [119,  83,  50],\n",
       "        [122,  87,  57]],\n",
       "\n",
       "       [[ 25,  24,  21],\n",
       "        [ 16,   7,   0],\n",
       "        [ 49,  27,   8],\n",
       "        ...,\n",
       "        [118,  84,  50],\n",
       "        [120,  84,  50],\n",
       "        [109,  73,  42]],\n",
       "\n",
       "       ...,\n",
       "\n",
       "       [[208, 170,  96],\n",
       "        [201, 153,  34],\n",
       "        [198, 161,  26],\n",
       "        ...,\n",
       "        [160, 133,  70],\n",
       "        [ 56,  31,   7],\n",
       "        [ 53,  34,  20]],\n",
       "\n",
       "       [[180, 139,  96],\n",
       "        [173, 123,  42],\n",
       "        [186, 144,  30],\n",
       "        ...,\n",
       "        [184, 148,  94],\n",
       "        [ 97,  62,  34],\n",
       "        [ 83,  53,  34]],\n",
       "\n",
       "       [[177, 144, 116],\n",
       "        [168, 129,  94],\n",
       "        [179, 142,  87],\n",
       "        ...,\n",
       "        [216, 184, 140],\n",
       "        [151, 118,  84],\n",
       "        [123,  92,  72]]], dtype=uint8)"
      ]
     },
     "execution_count": 5,
     "metadata": {},
     "output_type": "execute_result"
    }
   ],
   "source": [
    "x_train[0]\n",
    "# we get a 3-D array "
   ]
  },
  {
   "cell_type": "code",
   "execution_count": 6,
   "id": "eed0ee20",
   "metadata": {},
   "outputs": [
    {
     "data": {
      "text/plain": [
       "<matplotlib.image.AxesImage at 0x1abee13b4c0>"
      ]
     },
     "execution_count": 6,
     "metadata": {},
     "output_type": "execute_result"
    },
    {
     "data": {
      "image/png": "[encoded data removed]",
      "text/plain": [
       "<Figure size 432x288 with 1 Axes>"
      ]
     },
     "metadata": {
      "needs_background": "light"
     },
     "output_type": "display_data"
    }
   ],
   "source": [
    "plt.imshow(x_train[0])"
   ]
  },
  {
   "cell_type": "code",
   "execution_count": 7,
   "id": "cabe621a",
   "metadata": {},
   "outputs": [
    {
     "data": {
      "text/plain": [
       "<matplotlib.image.AxesImage at 0x1abf020cdc0>"
      ]
     },
     "execution_count": 7,
     "metadata": {},
     "output_type": "execute_result"
    },
    {
     "data": {
      "image/png": "[encoded data removed]",
      "text/plain": [
       "<Figure size 1080x144 with 1 Axes>"
      ]
     },
     "metadata": {
      "needs_background": "light"
     },
     "output_type": "display_data"
    }
   ],
   "source": [
    "plt.figure(figsize= (15,2))\n",
    "plt.imshow(x_train[0])\n"
   ]
  },
  {
   "cell_type": "code",
   "execution_count": 8,
   "id": "8c1936c2",
   "metadata": {},
   "outputs": [
    {
     "data": {
      "text/plain": [
       "<matplotlib.image.AxesImage at 0x1abf0263d00>"
      ]
     },
     "execution_count": 8,
     "metadata": {},
     "output_type": "execute_result"
    },
    {
     "data": {
      "image/png": "[encoded data removed]",
      "text/plain": [
       "<Figure size 1080x216 with 1 Axes>"
      ]
     },
     "metadata": {
      "needs_background": "light"
     },
     "output_type": "display_data"
    }
   ],
   "source": [
    "plt.figure(figsize= (15,3))\n",
    "plt.imshow(x_train[1])"
   ]
  },
  {
   "cell_type": "code",
   "execution_count": 9,
   "id": "87e8cec4",
   "metadata": {},
   "outputs": [
    {
     "data": {
      "text/plain": [
       "(50000, 1)"
      ]
     },
     "execution_count": 9,
     "metadata": {},
     "output_type": "execute_result"
    }
   ],
   "source": [
    "y_train.shape"
   ]
  },
  {
   "cell_type": "code",
   "execution_count": 10,
   "id": "8f02ccdf",
   "metadata": {},
   "outputs": [
    {
     "data": {
      "text/plain": [
       "array([[6],\n",
       "       [9],\n",
       "       [9],\n",
       "       [4],\n",
       "       [1]], dtype=uint8)"
      ]
     },
     "execution_count": 10,
     "metadata": {},
     "output_type": "execute_result"
    }
   ],
   "source": [
    "y_train[:5]"
   ]
  },
  {
   "cell_type": "code",
   "execution_count": 11,
   "id": "745b3424",
   "metadata": {},
   "outputs": [
    {
     "data": {
      "text/plain": [
       "array([6, 9, 9, 4, 1], dtype=uint8)"
      ]
     },
     "execution_count": 11,
     "metadata": {},
     "output_type": "execute_result"
    }
   ],
   "source": [
    "y_train = y_train.reshape(-1,)\n",
    "y_train[:5]"
   ]
  },
  {
   "cell_type": "code",
   "execution_count": 12,
   "id": "5959fa3d",
   "metadata": {},
   "outputs": [],
   "source": [
    "classes = [\"airplane\", \"automobile\", \"bird\", \"cat\", \"deer\",\"dog\",\"frog\",\"horse\",\"ship\",\"truck\"]\n",
    "# these the 10 different classes of our dataset."
   ]
  },
  {
   "cell_type": "code",
   "execution_count": 13,
   "id": "9ae3fa63",
   "metadata": {},
   "outputs": [
    {
     "data": {
      "text/plain": [
       "'truck'"
      ]
     },
     "execution_count": 13,
     "metadata": {},
     "output_type": "execute_result"
    }
   ],
   "source": [
    "classes[9]"
   ]
  },
  {
   "cell_type": "code",
   "execution_count": 14,
   "id": "87e9fbef",
   "metadata": {},
   "outputs": [],
   "source": [
    "def plot_sample(x,y,index):\n",
    "    plt.figure(figsize= (15,2))\n",
    "    plt.imshow(x[index])\n",
    "    plt.xlabel(classes[y[index]])"
   ]
  },
  {
   "cell_type": "code",
   "execution_count": 15,
   "id": "080d0548",
   "metadata": {},
   "outputs": [
    {
     "data": {
      "image/png": "[encoded data removed]",
      "text/plain": [
       "<Figure size 1080x144 with 1 Axes>"
      ]
     },
     "metadata": {
      "needs_background": "light"
     },
     "output_type": "display_data"
    }
   ],
   "source": [
    "plot_sample(x_train, y_train, 0)"
   ]
  },
  {
   "cell_type": "code",
   "execution_count": 16,
   "id": "0c7f2eee",
   "metadata": {},
   "outputs": [
    {
     "data": {
      "image/png": "[encoded data removed]",
      "text/plain": [
       "<Figure size 1080x144 with 1 Axes>"
      ]
     },
     "metadata": {
      "needs_background": "light"
     },
     "output_type": "display_data"
    }
   ],
   "source": [
    "plot_sample(x_train, y_train, 9)"
   ]
  },
  {
   "cell_type": "markdown",
   "id": "a3847e37",
   "metadata": {},
   "source": [
    "## we have to normalize our data...(scaling)\n",
    "## so we will divide with max range of pixel (255)."
   ]
  },
  {
   "cell_type": "code",
   "execution_count": 17,
   "id": "aa943e91",
   "metadata": {},
   "outputs": [
    {
     "data": {
      "text/plain": [
       "array([[[ 59,  62,  63],\n",
       "        [ 43,  46,  45],\n",
       "        [ 50,  48,  43],\n",
       "        ...,\n",
       "        [158, 132, 108],\n",
       "        [152, 125, 102],\n",
       "        [148, 124, 103]],\n",
       "\n",
       "       [[ 16,  20,  20],\n",
       "        [  0,   0,   0],\n",
       "        [ 18,   8,   0],\n",
       "        ...,\n",
       "        [123,  88,  55],\n",
       "        [119,  83,  50],\n",
       "        [122,  87,  57]],\n",
       "\n",
       "       [[ 25,  24,  21],\n",
       "        [ 16,   7,   0],\n",
       "        [ 49,  27,   8],\n",
       "        ...,\n",
       "        [118,  84,  50],\n",
       "        [120,  84,  50],\n",
       "        [109,  73,  42]],\n",
       "\n",
       "       ...,\n",
       "\n",
       "       [[208, 170,  96],\n",
       "        [201, 153,  34],\n",
       "        [198, 161,  26],\n",
       "        ...,\n",
       "        [160, 133,  70],\n",
       "        [ 56,  31,   7],\n",
       "        [ 53,  34,  20]],\n",
       "\n",
       "       [[180, 139,  96],\n",
       "        [173, 123,  42],\n",
       "        [186, 144,  30],\n",
       "        ...,\n",
       "        [184, 148,  94],\n",
       "        [ 97,  62,  34],\n",
       "        [ 83,  53,  34]],\n",
       "\n",
       "       [[177, 144, 116],\n",
       "        [168, 129,  94],\n",
       "        [179, 142,  87],\n",
       "        ...,\n",
       "        [216, 184, 140],\n",
       "        [151, 118,  84],\n",
       "        [123,  92,  72]]], dtype=uint8)"
      ]
     },
     "execution_count": 17,
     "metadata": {},
     "output_type": "execute_result"
    }
   ],
   "source": [
    "x_train[0]"
   ]
  },
  {
   "cell_type": "code",
   "execution_count": 18,
   "id": "22ace565",
   "metadata": {},
   "outputs": [],
   "source": [
    "x_train = x_train / 255\n",
    "x_test = x_test / 255"
   ]
  },
  {
   "cell_type": "code",
   "execution_count": 19,
   "id": "a8127415",
   "metadata": {},
   "outputs": [
    {
     "data": {
      "text/plain": [
       "array([[[0.23137255, 0.24313725, 0.24705882],\n",
       "        [0.16862745, 0.18039216, 0.17647059],\n",
       "        [0.19607843, 0.18823529, 0.16862745],\n",
       "        ...,\n",
       "        [0.61960784, 0.51764706, 0.42352941],\n",
       "        [0.59607843, 0.49019608, 0.4       ],\n",
       "        [0.58039216, 0.48627451, 0.40392157]],\n",
       "\n",
       "       [[0.0627451 , 0.07843137, 0.07843137],\n",
       "        [0.        , 0.        , 0.        ],\n",
       "        [0.07058824, 0.03137255, 0.        ],\n",
       "        ...,\n",
       "        [0.48235294, 0.34509804, 0.21568627],\n",
       "        [0.46666667, 0.3254902 , 0.19607843],\n",
       "        [0.47843137, 0.34117647, 0.22352941]],\n",
       "\n",
       "       [[0.09803922, 0.09411765, 0.08235294],\n",
       "        [0.0627451 , 0.02745098, 0.        ],\n",
       "        [0.19215686, 0.10588235, 0.03137255],\n",
       "        ...,\n",
       "        [0.4627451 , 0.32941176, 0.19607843],\n",
       "        [0.47058824, 0.32941176, 0.19607843],\n",
       "        [0.42745098, 0.28627451, 0.16470588]],\n",
       "\n",
       "       ...,\n",
       "\n",
       "       [[0.81568627, 0.66666667, 0.37647059],\n",
       "        [0.78823529, 0.6       , 0.13333333],\n",
       "        [0.77647059, 0.63137255, 0.10196078],\n",
       "        ...,\n",
       "        [0.62745098, 0.52156863, 0.2745098 ],\n",
       "        [0.21960784, 0.12156863, 0.02745098],\n",
       "        [0.20784314, 0.13333333, 0.07843137]],\n",
       "\n",
       "       [[0.70588235, 0.54509804, 0.37647059],\n",
       "        [0.67843137, 0.48235294, 0.16470588],\n",
       "        [0.72941176, 0.56470588, 0.11764706],\n",
       "        ...,\n",
       "        [0.72156863, 0.58039216, 0.36862745],\n",
       "        [0.38039216, 0.24313725, 0.13333333],\n",
       "        [0.3254902 , 0.20784314, 0.13333333]],\n",
       "\n",
       "       [[0.69411765, 0.56470588, 0.45490196],\n",
       "        [0.65882353, 0.50588235, 0.36862745],\n",
       "        [0.70196078, 0.55686275, 0.34117647],\n",
       "        ...,\n",
       "        [0.84705882, 0.72156863, 0.54901961],\n",
       "        [0.59215686, 0.4627451 , 0.32941176],\n",
       "        [0.48235294, 0.36078431, 0.28235294]]])"
      ]
     },
     "execution_count": 19,
     "metadata": {},
     "output_type": "execute_result"
    }
   ],
   "source": [
    "x_train[0]"
   ]
  },
  {
   "cell_type": "markdown",
   "id": "2267a67f",
   "metadata": {},
   "source": [
    "## Using ANN:"
   ]
  },
  {
   "cell_type": "code",
   "execution_count": 20,
   "id": "77f9e0fe",
   "metadata": {},
   "outputs": [
    {
     "name": "stdout",
     "output_type": "stream",
     "text": [
      "Epoch 1/5\n",
      "1563/1563 [==============================] - 99s 63ms/step - loss: 1.8616 - accuracy: 0.3338\n",
      "Epoch 2/5\n",
      "1563/1563 [==============================] - 99s 64ms/step - loss: 1.6589 - accuracy: 0.4123\n",
      "Epoch 3/5\n",
      "1563/1563 [==============================] - 96s 61ms/step - loss: 1.5698 - accuracy: 0.4465\n",
      "Epoch 4/5\n",
      "1563/1563 [==============================] - 91s 58ms/step - loss: 1.5101 - accuracy: 0.4663\n",
      "Epoch 5/5\n",
      "1563/1563 [==============================] - 82s 53ms/step - loss: 1.4601 - accuracy: 0.4834\n"
     ]
    },
    {
     "data": {
      "text/plain": [
       "<tensorflow.python.keras.callbacks.History at 0x1abf04b7700>"
      ]
     },
     "execution_count": 20,
     "metadata": {},
     "output_type": "execute_result"
    }
   ],
   "source": [
    "# ANN\n",
    "from tensorflow import keras\n",
    "model =  keras.Sequential([\n",
    "    keras.layers.Flatten(input_shape=(32,32,3)),\n",
    "    keras.layers.Dense(3000,  activation=\"relu\"),\n",
    "    keras.layers.Dense(1000, activation=\"relu\"),\n",
    "    keras.layers.Dense(10, activation=\"sigmoid\")\n",
    "])\n",
    "\n",
    "model.compile(optimizer=\"SGD\",\n",
    "              loss = \"sparse_categorical_crossentropy\", \n",
    "              metrics = [\"accuracy\"]\n",
    "              )\n",
    "model.fit(x_train, y_train, epochs=5)"
   ]
  },
  {
   "cell_type": "code",
   "execution_count": 44,
   "id": "924b4727",
   "metadata": {},
   "outputs": [],
   "source": [
    "#model.evaluate(x_test, y_test)"
   ]
  },
  {
   "cell_type": "code",
   "execution_count": 47,
   "id": "65feff2a",
   "metadata": {},
   "outputs": [],
   "source": [
    "from sklearn.metrics import confusion_matrix, classification_report\n",
    "import numpy as np\n",
    "y_pred = model.predict(x_test)\n",
    "\n",
    "y_pred_classes = [np.argmax(element) for element in y_pred]"
   ]
  },
  {
   "cell_type": "code",
   "execution_count": 48,
   "id": "1b31ad56",
   "metadata": {},
   "outputs": [
    {
     "name": "stdout",
     "output_type": "stream",
     "text": [
      "              precision    recall  f1-score   support\n",
      "\n",
      "           0       0.50      0.54      0.52      1000\n",
      "           1       0.62      0.52      0.57      1000\n",
      "           2       0.35      0.45      0.39      1000\n",
      "           3       0.44      0.17      0.25      1000\n",
      "           4       0.50      0.28      0.36      1000\n",
      "           5       0.41      0.33      0.37      1000\n",
      "           6       0.56      0.48      0.52      1000\n",
      "           7       0.46      0.63      0.53      1000\n",
      "           8       0.45      0.75      0.56      1000\n",
      "           9       0.50      0.57      0.54      1000\n",
      "\n",
      "    accuracy                           0.47     10000\n",
      "   macro avg       0.48      0.47      0.46     10000\n",
      "weighted avg       0.48      0.47      0.46     10000\n",
      "\n"
     ]
    }
   ],
   "source": [
    "print(classification_report(y_test,y_pred_classes))"
   ]
  },
  {
   "cell_type": "code",
   "execution_count": null,
   "id": "219b97c0",
   "metadata": {},
   "outputs": [],
   "source": []
  },
  {
   "cell_type": "markdown",
   "id": "96f900e2",
   "metadata": {},
   "source": [
    "## we're going to use CNN to improve the performance of this model..."
   ]
  },
  {
   "cell_type": "markdown",
   "id": "105c9863",
   "metadata": {},
   "source": [
    "## CNN:"
   ]
  },
  {
   "cell_type": "code",
   "execution_count": 49,
   "id": "b0391911",
   "metadata": {},
   "outputs": [],
   "source": [
    "from tensorflow import keras\n",
    "cnn =  models.Sequential([\n",
    "    #CNN\n",
    "    keras.layers.Conv2D(filters=32, kernel_size=(3,3), activation=\"relu\", input_shape=(32,32,3)),\n",
    "    keras.layers.MaxPooling2D((2,2)),\n",
    "    \n",
    "    keras.layers.Conv2D(filters=64, kernel_size=(3,3), activation=\"relu\"),\n",
    "    keras.layers.MaxPooling2D((2,2)),\n",
    "    \n",
    "    #Dense\n",
    "    keras.layers.Flatten(),\n",
    "    keras.layers.Dense(64,  activation=\"relu\"),\n",
    "    keras.layers.Dense(10, activation=\"softmax\")\n",
    "])"
   ]
  },
  {
   "cell_type": "code",
   "execution_count": 25,
   "id": "d99bd3b4",
   "metadata": {},
   "outputs": [],
   "source": [
    "cnn.compile(optimizer=\"adam\",\n",
    "           loss=\"sparse_categorical_crossentropy\",\n",
    "           metrics=[\"accuracy\"])"
   ]
  },
  {
   "cell_type": "code",
   "execution_count": 26,
   "id": "8b1fc23b",
   "metadata": {},
   "outputs": [
    {
     "name": "stdout",
     "output_type": "stream",
     "text": [
      "Epoch 1/5\n",
      "1563/1563 [==============================] - 32s 20ms/step - loss: 1.4162 - accuracy: 0.4937\n",
      "Epoch 2/5\n",
      "1563/1563 [==============================] - 32s 20ms/step - loss: 1.0792 - accuracy: 0.6233\n",
      "Epoch 3/5\n",
      "1563/1563 [==============================] - 34s 22ms/step - loss: 0.9551 - accuracy: 0.6674\n",
      "Epoch 4/5\n",
      "1563/1563 [==============================] - 30s 19ms/step - loss: 0.8725 - accuracy: 0.6953\n",
      "Epoch 5/5\n",
      "1563/1563 [==============================] - 33s 21ms/step - loss: 0.8028 - accuracy: 0.7222\n"
     ]
    },
    {
     "data": {
      "text/plain": [
       "<tensorflow.python.keras.callbacks.History at 0x1abf2a85e50>"
      ]
     },
     "execution_count": 26,
     "metadata": {},
     "output_type": "execute_result"
    }
   ],
   "source": [
    "cnn.fit(x_train, y_train, epochs=5)\n",
    "# we can give some more number of epochs for better accuracy..."
   ]
  },
  {
   "cell_type": "markdown",
   "id": "9165a5da",
   "metadata": {},
   "source": [
    "### so we have got an 72% accuracy using CNN for 5 epochs\n",
    "### but in ANN we have got only 48% accuracy for 5 epochs"
   ]
  },
  {
   "cell_type": "code",
   "execution_count": 43,
   "id": "0b1aba08",
   "metadata": {},
   "outputs": [
    {
     "name": "stdout",
     "output_type": "stream",
     "text": [
      "313/313 [==============================] - 1s 5ms/step - loss: 0.9096 - accuracy: 0.6922\n"
     ]
    },
    {
     "data": {
      "text/plain": [
       "[0.9095830321311951, 0.6922000050544739]"
      ]
     },
     "execution_count": 43,
     "metadata": {},
     "output_type": "execute_result"
    }
   ],
   "source": [
    "cnn.evaluate(x_test, y_test)"
   ]
  },
  {
   "cell_type": "code",
   "execution_count": 28,
   "id": "917e725e",
   "metadata": {},
   "outputs": [],
   "source": [
    "#plot_sample(x_test, y_test)"
   ]
  },
  {
   "cell_type": "code",
   "execution_count": 29,
   "id": "5d2a7fe4",
   "metadata": {},
   "outputs": [
    {
     "data": {
      "text/plain": [
       "array([[3],\n",
       "       [8],\n",
       "       [8],\n",
       "       [0],\n",
       "       [6]], dtype=uint8)"
      ]
     },
     "execution_count": 29,
     "metadata": {},
     "output_type": "execute_result"
    }
   ],
   "source": [
    "y_test[:5]"
   ]
  },
  {
   "cell_type": "code",
   "execution_count": 30,
   "id": "8d1e57ba",
   "metadata": {},
   "outputs": [],
   "source": [
    "# we have to reshape the y_test to a one dimensional array\n",
    "\n",
    "y_test = y_test.reshape(-1,)"
   ]
  },
  {
   "cell_type": "code",
   "execution_count": 31,
   "id": "fc1ff229",
   "metadata": {},
   "outputs": [
    {
     "data": {
      "text/plain": [
       "array([3, 8, 8, 0, 6], dtype=uint8)"
      ]
     },
     "execution_count": 31,
     "metadata": {},
     "output_type": "execute_result"
    }
   ],
   "source": [
    "y_test[:5]"
   ]
  },
  {
   "cell_type": "code",
   "execution_count": 32,
   "id": "d50bd71d",
   "metadata": {},
   "outputs": [
    {
     "data": {
      "image/png": "[encoded data removed]",
      "text/plain": [
       "<Figure size 1080x144 with 1 Axes>"
      ]
     },
     "metadata": {
      "needs_background": "light"
     },
     "output_type": "display_data"
    }
   ],
   "source": [
    "plot_sample(x_test, y_test, 1)"
   ]
  },
  {
   "cell_type": "code",
   "execution_count": 33,
   "id": "d8328c0f",
   "metadata": {},
   "outputs": [
    {
     "data": {
      "text/plain": [
       "array([[2.1296795e-03, 9.6582708e-06, 4.8457021e-03, 8.8818699e-01,\n",
       "        8.8591338e-04, 7.7938117e-02, 2.3327086e-02, 1.6744301e-05,\n",
       "        2.5610537e-03, 9.9132048e-05],\n",
       "       [1.8358560e-02, 4.9019791e-02, 2.6724389e-05, 2.4306695e-05,\n",
       "        3.6431936e-06, 1.5995190e-07, 4.7660929e-08, 4.3907832e-07,\n",
       "        9.2722261e-01, 5.3437925e-03],\n",
       "       [2.8826618e-01, 1.3159165e-01, 1.2422242e-02, 5.2933019e-02,\n",
       "        5.9647844e-03, 8.0249486e-03, 7.6713652e-04, 1.2603236e-02,\n",
       "        3.9872470e-01, 8.8702165e-02],\n",
       "       [9.1611671e-01, 5.0596908e-02, 1.1267138e-02, 3.8511804e-04,\n",
       "        1.4862037e-02, 2.1726064e-05, 1.4264922e-04, 1.4345234e-04,\n",
       "        6.2065162e-03, 2.5775147e-04],\n",
       "       [1.2005285e-05, 3.0813088e-05, 1.6462006e-02, 3.7571572e-02,\n",
       "        6.7325222e-01, 9.4172759e-03, 2.6319352e-01, 2.4445511e-05,\n",
       "        3.3763161e-05, 2.2111496e-06]], dtype=float32)"
      ]
     },
     "execution_count": 33,
     "metadata": {},
     "output_type": "execute_result"
    }
   ],
   "source": [
    "y_predi = cnn.predict(x_test)\n",
    "y_predi[:5]"
   ]
  },
  {
   "cell_type": "code",
   "execution_count": 34,
   "id": "d1390c02",
   "metadata": {},
   "outputs": [
    {
     "data": {
      "text/plain": [
       "2"
      ]
     },
     "execution_count": 34,
     "metadata": {},
     "output_type": "execute_result"
    }
   ],
   "source": [
    "np.argmax([3,45,656,5,4])\n",
    "# so argmax will give the maximum number in an array..."
   ]
  },
  {
   "cell_type": "code",
   "execution_count": 35,
   "id": "e09b43dc",
   "metadata": {},
   "outputs": [],
   "source": [
    "y_predi_classes = [np.argmax(element) for element in y_predi]"
   ]
  },
  {
   "cell_type": "code",
   "execution_count": 36,
   "id": "f8e6fb98",
   "metadata": {},
   "outputs": [
    {
     "data": {
      "text/plain": [
       "[3, 8, 8, 0, 4, 6, 3, 4, 3, 1, 0, 9, 5, 7, 9, 8, 5, 7, 8, 6]"
      ]
     },
     "execution_count": 36,
     "metadata": {},
     "output_type": "execute_result"
    }
   ],
   "source": [
    "y_predi_classes[:20]"
   ]
  },
  {
   "cell_type": "code",
   "execution_count": 37,
   "id": "9df92fdd",
   "metadata": {},
   "outputs": [
    {
     "data": {
      "text/plain": [
       "array([3, 8, 8, 0, 6, 6, 1, 6, 3, 1, 0, 9, 5, 7, 9, 8, 5, 7, 8, 6],\n",
       "      dtype=uint8)"
      ]
     },
     "execution_count": 37,
     "metadata": {},
     "output_type": "execute_result"
    }
   ],
   "source": [
    "y_test[:20]"
   ]
  },
  {
   "cell_type": "code",
   "execution_count": 38,
   "id": "cfc83c3f",
   "metadata": {},
   "outputs": [
    {
     "data": {
      "image/png": "[encoded data removed]",
      "text/plain": [
       "<Figure size 1080x144 with 1 Axes>"
      ]
     },
     "metadata": {
      "needs_background": "light"
     },
     "output_type": "display_data"
    }
   ],
   "source": [
    "plot_sample(x_test, y_test, 1)"
   ]
  },
  {
   "cell_type": "code",
   "execution_count": 39,
   "id": "6a2f750b",
   "metadata": {},
   "outputs": [
    {
     "data": {
      "text/plain": [
       "'ship'"
      ]
     },
     "execution_count": 39,
     "metadata": {},
     "output_type": "execute_result"
    }
   ],
   "source": [
    "classes[y_predi_classes[1]]"
   ]
  },
  {
   "cell_type": "code",
   "execution_count": 40,
   "id": "e6dfad49",
   "metadata": {},
   "outputs": [
    {
     "data": {
      "image/png": "[encoded data removed]",
      "text/plain": [
       "<Figure size 1080x144 with 1 Axes>"
      ]
     },
     "metadata": {
      "needs_background": "light"
     },
     "output_type": "display_data"
    }
   ],
   "source": [
    "plot_sample(x_test, y_test, 15)"
   ]
  },
  {
   "cell_type": "code",
   "execution_count": 41,
   "id": "a789b78f",
   "metadata": {},
   "outputs": [
    {
     "data": {
      "text/plain": [
       "'ship'"
      ]
     },
     "execution_count": 41,
     "metadata": {},
     "output_type": "execute_result"
    }
   ],
   "source": [
    "classes[y_predi_classes[15]]\n",
    "# here our model made a mistake...."
   ]
  },
  {
   "cell_type": "code",
   "execution_count": 42,
   "id": "d1ff6459",
   "metadata": {},
   "outputs": [
    {
     "name": "stdout",
     "output_type": "stream",
     "text": [
      "              precision    recall  f1-score   support\n",
      "\n",
      "           0       0.66      0.82      0.73      1000\n",
      "           1       0.83      0.78      0.80      1000\n",
      "           2       0.59      0.60      0.59      1000\n",
      "           3       0.57      0.41      0.48      1000\n",
      "           4       0.64      0.65      0.64      1000\n",
      "           5       0.52      0.70      0.60      1000\n",
      "           6       0.82      0.70      0.76      1000\n",
      "           7       0.73      0.74      0.74      1000\n",
      "           8       0.86      0.75      0.80      1000\n",
      "           9       0.79      0.77      0.78      1000\n",
      "\n",
      "    accuracy                           0.69     10000\n",
      "   macro avg       0.70      0.69      0.69     10000\n",
      "weighted avg       0.70      0.69      0.69     10000\n",
      "\n"
     ]
    }
   ],
   "source": [
    "print(classification_report(y_test, y_predi_classes))"
   ]
  },
  {
   "cell_type": "markdown",
   "id": "47f0a850",
   "metadata": {},
   "source": [
    "## Finally, we can see a good accuracy in CNN \n",
    "## we can conclude that, it is better to use CNN for an image classifications."
   ]
  },
  {
   "cell_type": "code",
   "execution_count": null,
   "id": "ef548efe",
   "metadata": {},
   "outputs": [],
   "source": []
  }
 ],
 "metadata": {
  "kernelspec": {
   "display_name": "Python 3",
   "language": "python",
   "name": "python3"
  },
  "language_info": {
   "codemirror_mode": {
    "name": "ipython",
    "version": 3
   },
   "file_extension": ".py",
   "mimetype": "text/x-python",
   "name": "python",
   "nbconvert_exporter": "python",
   "pygments_lexer": "ipython3",
   "version": "3.8.8"
  }
 },
 "nbformat": 4,
 "nbformat_minor": 5
}
